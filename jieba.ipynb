{
 "cells": [
  {
   "cell_type": "code",
   "execution_count": 4,
   "metadata": {},
   "outputs": [
    {
     "name": "stderr",
     "output_type": "stream",
     "text": [
      "Building prefix dict from C:\\pyml_scripts\\jieba\\dict.txt.big.txt ...\n",
      "Loading model from cache C:\\Users\\ADMINI~1\\AppData\\Local\\Temp\\jieba.u167995dff614d0511f6749dcab629a6c.cache\n",
      "Loading model cost 1.423 seconds.\n",
      "Prefix dict has been built succesfully.\n"
     ]
    }
   ],
   "source": [
    "import jieba\n",
    "\n",
    "jieba.set_dictionary('C:\\pyml_scripts\\jieba\\dict.txt.big.txt')\n",
    "jieba.load_userdict('C:\\pyml_scripts\\jieba\\kingallnames.txt')\n",
    "\n",
    "with open('C:\\pyml_scripts\\jieba\\TL.txt','r', encoding='utf-8') as f:\n",
    "    data = [line.strip()\n",
    "            for line in f.readlines()\n",
    "            if line.strip()]\n",
    "\n",
    "sentences = []\n",
    "for line in data:\n",
    "    words = list(jieba.cut(line))\n",
    "    sentences.append(words)"
   ]
  },
  {
   "cell_type": "code",
   "execution_count": 5,
   "metadata": {},
   "outputs": [],
   "source": [
    "import gensim\n",
    "model = gensim.models.Word2Vec(sentences,\n",
    "                               size=100,\n",
    "                               window=5,\n",
    "                               min_count=5,\n",
    "                               workers=4)"
   ]
  },
  {
   "cell_type": "code",
   "execution_count": 6,
   "metadata": {},
   "outputs": [
    {
     "name": "stdout",
     "output_type": "stream",
     "text": [
      "段譽:0.9450138807296753\n",
      "虛竹:0.9381434321403503\n",
      "游坦之:0.9329253435134888\n",
      "王語嫣:0.9326273798942566\n",
      "慕容復:0.9256503582000732\n",
      "烏老大:0.9227139949798584\n",
      "段正淳:0.9153062105178833\n",
      "木婉清:0.9113152027130127\n",
      "阿紫:0.9028122425079346\n",
      "鐘靈:0.8838889598846436\n"
     ]
    }
   ],
   "source": [
    "for k, s in model.wv.most_similar(positive=[\"蕭峰\",\"喬峰\"]):\n",
    "        print('{}:{}'.format(k, s))"
   ]
  },
  {
   "cell_type": "code",
   "execution_count": 7,
   "metadata": {},
   "outputs": [
    {
     "name": "stdout",
     "output_type": "stream",
     "text": [
      "少林派:0.9362398386001587\n",
      "少林寺:0.9241346716880798\n",
      "中原:0.9174875020980835\n",
      "高僧:0.9078108668327332\n",
      "莊聚賢:0.9003373384475708\n",
      "弟子:0.8924394845962524\n",
      "大幫:0.8876726031303406\n",
      "大理:0.886109471321106\n",
      "少林:0.8777291774749756\n",
      "逐:0.8748767375946045\n"
     ]
    }
   ],
   "source": [
    "for k, s in model.wv.most_similar(positive=[\"丐幫\"]):\n",
    "        print('{}:{}'.format(k, s))"
   ]
  },
  {
   "cell_type": "code",
   "execution_count": 9,
   "metadata": {},
   "outputs": [
    {
     "name": "stdout",
     "output_type": "stream",
     "text": [
      "游坦之:0.9618445038795471\n",
      "虛竹:0.944625973701477\n",
      "慕容復:0.9388999938964844\n",
      "蕭峰:0.933895468711853\n",
      "王語嫣:0.925765872001648\n",
      "木婉清:0.9220373034477234\n",
      "阿紫:0.9190852642059326\n",
      "喬峰:0.9079145193099976\n",
      "鐘靈:0.882921576499939\n",
      "烏老大:0.8780678510665894\n"
     ]
    }
   ],
   "source": [
    "for k, s in model.wv.most_similar(positive=[\"段譽\"]):\n",
    "        print('{}:{}'.format(k, s))"
   ]
  },
  {
   "cell_type": "code",
   "execution_count": 10,
   "metadata": {},
   "outputs": [
    {
     "name": "stdout",
     "output_type": "stream",
     "text": [
      "阿紫:0.9428302049636841\n",
      "木婉清:0.9364719390869141\n",
      "游坦之:0.9285188913345337\n",
      "蕭峰:0.9274671077728271\n",
      "段譽:0.9257657527923584\n",
      "鐘靈:0.9222577810287476\n",
      "阿朱:0.9096046686172485\n",
      "一眼:0.9012775421142578\n",
      "慕容復:0.9001039266586304\n",
      "虛竹:0.8918812870979309\n"
     ]
    }
   ],
   "source": [
    "for k, s in model.wv.most_similar(positive=[\"王語嫣\"]):\n",
    "        print('{}:{}'.format(k, s))"
   ]
  },
  {
   "cell_type": "code",
   "execution_count": 11,
   "metadata": {},
   "outputs": [
    {
     "name": "stdout",
     "output_type": "stream",
     "text": [
      "火焰刀:0.9575858116149902\n",
      "北冥神功:0.9262275695800781\n",
      "亢龍有悔:0.9224038124084473\n",
      "腐屍:0.9197549819946289\n",
      "證道院:0.9178974628448486\n",
      "一招:0.916729748249054\n",
      "化功大法:0.9163818955421448\n",
      "第四:0.9154037237167358\n",
      "偷心:0.9095631837844849\n",
      "小無相功:0.9071148037910461\n"
     ]
    }
   ],
   "source": [
    "for k, s in model.wv.most_similar(positive=[\"凌波微步\"]):\n",
    "        print('{}:{}'.format(k, s))"
   ]
  },
  {
   "cell_type": "code",
   "execution_count": 12,
   "metadata": {},
   "outputs": [
    {
     "name": "stdout",
     "output_type": "stream",
     "text": [
      "如同段譽與段公子的關係,慕容復與三弟也有類似關係\n"
     ]
    }
   ],
   "source": [
    "v = \"段譽\"\n",
    "v1 = \"段公子\"\n",
    "u = \"慕容復\"\n",
    "u1, _ = model.wv.most_similar(positive=[u, v1], negative=[v])[0]\n",
    "print(\"如同{0}與{1}的關係,{2}與{3}也有類似關係\".format(v, v1, u, u1))\n"
   ]
  },
  {
   "cell_type": "code",
   "execution_count": 13,
   "metadata": {},
   "outputs": [
    {
     "name": "stdout",
     "output_type": "stream",
     "text": [
      "如同蕭峰與阿朱的關係,段譽與阿紫也有類似關係\n"
     ]
    }
   ],
   "source": [
    "v = \"蕭峰\"\n",
    "v1 = \"阿朱\"\n",
    "u = \"段譽\"\n",
    "u1, _ = model.wv.most_similar(positive=[u, v1], negative=[v])[0]\n",
    "print(\"如同{0}與{1}的關係,{2}與{3}也有類似關係\".format(v, v1, u, u1))"
   ]
  },
  {
   "cell_type": "code",
   "execution_count": 14,
   "metadata": {},
   "outputs": [
    {
     "name": "stdout",
     "output_type": "stream",
     "text": [
      "如同虛竹與天山的關係,段譽與賊子也有類似關係\n"
     ]
    }
   ],
   "source": [
    "v = \"虛竹\"\n",
    "v1 = \"天山\"\n",
    "u = \"段譽\"\n",
    "u1, _ = model.wv.most_similar(positive=[u, v1], negative=[v])[0]\n",
    "print(\"如同{0}與{1}的關係,{2}與{3}也有類似關係\".format(v, v1, u, u1))"
   ]
  },
  {
   "cell_type": "code",
   "execution_count": null,
   "metadata": {
    "collapsed": true
   },
   "outputs": [],
   "source": []
  }
 ],
 "metadata": {
  "kernelspec": {
   "display_name": "Python 3",
   "language": "python",
   "name": "python3"
  },
  "language_info": {
   "codemirror_mode": {
    "name": "ipython",
    "version": 3
   },
   "file_extension": ".py",
   "mimetype": "text/x-python",
   "name": "python",
   "nbconvert_exporter": "python",
   "pygments_lexer": "ipython3",
   "version": "3.6.4"
  }
 },
 "nbformat": 4,
 "nbformat_minor": 2
}
